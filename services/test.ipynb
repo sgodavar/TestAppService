{
 "cells": [
  {
   "cell_type": "code",
   "execution_count": 3,
   "metadata": {},
   "outputs": [
    {
     "name": "stdout",
     "output_type": "stream",
     "text": [
      "True\n",
      "['camera', 'battery life']\n"
     ]
    }
   ],
   "source": [
    "import marvin\n",
    "\n",
    "import os\n",
    "from dotenv import load_dotenv\n",
    "\n",
    "from pathlib import Path\n",
    "\n",
    "dotenv_path = Path('.env')\n",
    "load = load_dotenv(dotenv_path, override=True)\n",
    "\n",
    "print(load)\n",
    "\n",
    "# if not marvin.settings.openai.api_key:\n",
    "#     raise ValueError(\"OpenAI API key is missing. Check your environment variables.\")\n",
    "features = marvin.extract(\n",
    "    \"I love my new phone's camera, but the battery life could be improved.\",\n",
    "    instructions=\"extract product features\",\n",
    ")\n",
    "\n",
    "print(features)"
   ]
  }
 ],
 "metadata": {
  "kernelspec": {
   "display_name": ".venv",
   "language": "python",
   "name": "python3"
  },
  "language_info": {
   "codemirror_mode": {
    "name": "ipython",
    "version": 3
   },
   "file_extension": ".py",
   "mimetype": "text/x-python",
   "name": "python",
   "nbconvert_exporter": "python",
   "pygments_lexer": "ipython3",
   "version": "3.12.6"
  }
 },
 "nbformat": 4,
 "nbformat_minor": 2
}
